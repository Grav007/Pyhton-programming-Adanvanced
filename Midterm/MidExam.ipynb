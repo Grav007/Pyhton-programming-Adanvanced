{
 "cells": [
  {
   "cell_type": "code",
   "execution_count": 116,
   "id": "28043d8c-5148-40cf-b41f-7088e98b6f3c",
   "metadata": {},
   "outputs": [
    {
     "name": "stdin",
     "output_type": "stream",
     "text": [
      "Enter The String:  fgdsa\n"
     ]
    },
    {
     "name": "stdout",
     "output_type": "stream",
     "text": [
      "The String Is Not Palindrome\n"
     ]
    }
   ],
   "source": [
    "#Q1: Palindrome\n",
    "a = input(\"Enter The String: \")\n",
    "p = a == a[::-1]\n",
    "\n",
    "if p:\n",
    "    print(\"The String Is Palindrome\")\n",
    "else:\n",
    "    print(\"The String Is Not Palindrome\")\n"
   ]
  },
  {
   "cell_type": "code",
   "execution_count": 115,
   "id": "6b20239a-8773-4c5e-9b4d-a48fe0371025",
   "metadata": {},
   "outputs": [
    {
     "name": "stdin",
     "output_type": "stream",
     "text": [
      "Enter The String:  adf\n"
     ]
    },
    {
     "name": "stdout",
     "output_type": "stream",
     "text": [
      "fda\n"
     ]
    }
   ],
   "source": [
    "#Q1:\n",
    "a = input(\"Enter The String: \")\n",
    "p =  a[::-1]\n",
    "\n",
    "print(p)"
   ]
  },
  {
   "cell_type": "code",
   "execution_count": 112,
   "id": "05e04542-144e-49dd-9fbf-1dd8f037039a",
   "metadata": {},
   "outputs": [
    {
     "name": "stdin",
     "output_type": "stream",
     "text": [
      "Enter A Number 3\n"
     ]
    },
    {
     "name": "stdout",
     "output_type": "stream",
     "text": [
      "The Factorial  is : \n",
      "6\n"
     ]
    }
   ],
   "source": [
    "n = int(input(\"Enter A Number\"))\n",
    "fac = 1\n",
    "\n",
    "for i in range(1,n+1):\n",
    "    fac = fac * i\n",
    "\n",
    "print (\"The Factorial  is : \")\n",
    "print(fac)\n"
   ]
  },
  {
   "cell_type": "code",
   "execution_count": 69,
   "id": "0d22080a-2d5f-408a-9d04-b5bf1a2967a8",
   "metadata": {},
   "outputs": [
    {
     "name": "stdin",
     "output_type": "stream",
     "text": [
      "Please enter a Character:  4\n"
     ]
    },
    {
     "name": "stdout",
     "output_type": "stream",
     "text": [
      "The  Character Is Consonant:\n"
     ]
    }
   ],
   "source": [
    "i=input(\"Please enter a Character: \");\n",
    "\n",
    "if(i == 'a'or i == 'e'or i == 'i'or i == 'o'or i == 'u' or\n",
    "       i == 'A'or i == 'E'or i == 'I'or i == 'O'or i == 'U' ):\n",
    "     print(\"The Character Is Vowel\");   \n",
    "else:\n",
    "    print(\"The  Character Is Consonant:\")\n",
    "\n",
    "\n",
    "\n"
   ]
  },
  {
   "cell_type": "code",
   "execution_count": 107,
   "id": "72e5c59f-915e-4941-812b-c5af58f6749e",
   "metadata": {},
   "outputs": [
    {
     "name": "stdout",
     "output_type": "stream",
     "text": [
      "['waseem', 'ahmad', 'abd', 'uamir']\n"
     ]
    }
   ],
   "source": [
    "def revlist(a):\n",
    "    rev_str = []\n",
    "    for x in a:\n",
    "        rev_str.insert(0, x)\n",
    "    return rev_str\n",
    "print(revlist(['uamir','abd','ahmad','waseem']))"
   ]
  },
  {
   "cell_type": "code",
   "execution_count": 106,
   "id": "f481a506-be90-4d17-8e73-bc5783f4c901",
   "metadata": {},
   "outputs": [
    {
     "name": "stdout",
     "output_type": "stream",
     "text": [
      "100\n"
     ]
    }
   ],
   "source": [
    "def func(a):\n",
    "    sum=0\n",
    "    for x in range(len(a)):\n",
    "        l=a[x]\n",
    "        cube=l*l*l\n",
    "        sum +=cube\n",
    "    return sum\n",
    "print(myfunc([1,2,3,4]))"
   ]
  },
  {
   "cell_type": "code",
   "execution_count": 90,
   "id": "cc54a105-80bd-46cc-a8d5-96d753a01aa7",
   "metadata": {},
   "outputs": [
    {
     "data": {
      "text/plain": [
       "4"
      ]
     },
     "execution_count": 90,
     "metadata": {},
     "output_type": "execute_result"
    }
   ],
   "source": []
  },
  {
   "cell_type": "code",
   "execution_count": null,
   "id": "bb8ddab9-8a10-4be5-8e59-ded5f24146b1",
   "metadata": {},
   "outputs": [],
   "source": []
  }
 ],
 "metadata": {
  "kernelspec": {
   "display_name": "Python 3 (ipykernel)",
   "language": "python",
   "name": "python3"
  },
  "language_info": {
   "codemirror_mode": {
    "name": "ipython",
    "version": 3
   },
   "file_extension": ".py",
   "mimetype": "text/x-python",
   "name": "python",
   "nbconvert_exporter": "python",
   "pygments_lexer": "ipython3",
   "version": "3.7.9"
  }
 },
 "nbformat": 4,
 "nbformat_minor": 5
}
